{
 "cells": [
  {
   "cell_type": "code",
   "execution_count": 1,
   "id": "8a93d311-7866-45be-913d-d23a8db7d424",
   "metadata": {},
   "outputs": [
    {
     "name": "stdout",
     "output_type": "stream",
     "text": [
      "Hello This right here  is NLP \n"
     ]
    }
   ],
   "source": [
    "import re\n",
    "\n",
    "def remove_punctuation(text):\n",
    "    # This pattern removes anything that's not a word character, whitespace, or digit\n",
    "    return re.sub(r'[^\\w\\s]', '', text)\n",
    "\n",
    "# Example usage:\n",
    "text = \"Hello!!! This, right here -- is NLP :)\"\n",
    "cleaned_text = remove_punctuation(text)\n",
    "print(cleaned_text)\n"
   ]
  },
  {
   "cell_type": "code",
   "execution_count": null,
   "id": "75d3dadc-cc39-4583-b009-065f8bb88a72",
   "metadata": {},
   "outputs": [],
   "source": []
  }
 ],
 "metadata": {
  "kernelspec": {
   "display_name": "Python 3 (ipykernel)",
   "language": "python",
   "name": "python3"
  },
  "language_info": {
   "codemirror_mode": {
    "name": "ipython",
    "version": 3
   },
   "file_extension": ".py",
   "mimetype": "text/x-python",
   "name": "python",
   "nbconvert_exporter": "python",
   "pygments_lexer": "ipython3",
   "version": "3.11.2"
  }
 },
 "nbformat": 4,
 "nbformat_minor": 5
}
