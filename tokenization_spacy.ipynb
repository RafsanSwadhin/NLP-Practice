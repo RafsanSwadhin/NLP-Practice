{
  "nbformat": 4,
  "nbformat_minor": 0,
  "metadata": {
    "colab": {
      "provenance": [],
      "authorship_tag": "ABX9TyNBI9zeeBhwLl1AwqleJpR9",
      "include_colab_link": true
    },
    "kernelspec": {
      "name": "python3",
      "display_name": "Python 3"
    },
    "language_info": {
      "name": "python"
    }
  },
  "cells": [
    {
      "cell_type": "markdown",
      "metadata": {
        "id": "view-in-github",
        "colab_type": "text"
      },
      "source": [
        "<a href=\"https://colab.research.google.com/github/RafsanSwadhin/NLP-Practice/blob/master/tokenization_spacy.ipynb\" target=\"_parent\"><img src=\"https://colab.research.google.com/assets/colab-badge.svg\" alt=\"Open In Colab\"/></a>"
      ]
    },
    {
      "cell_type": "code",
      "execution_count": 1,
      "metadata": {
        "id": "nbKBkkqeww3p"
      },
      "outputs": [],
      "source": [
        "import spacy\n"
      ]
    },
    {
      "cell_type": "code",
      "source": [
        "text='''\n",
        "Look for data to help you address the question. Governments are good\n",
        "sources because data from public research is often freely available. Good\n",
        "places to start include http://www.data.gov/, and http://www.science.\n",
        "gov/, and in the United Kingdom, http://data.gov.uk/.\n",
        "Two of my favorite data sets are the General Social Survey at http://www3.norc.org/gss+website/,\n",
        "and the European Social Survey at http://www.europeansocialsurvey.org/.\n",
        "'''"
      ],
      "metadata": {
        "id": "ivWfe18QzYVT"
      },
      "execution_count": 2,
      "outputs": []
    },
    {
      "cell_type": "code",
      "source": [
        "nlp = spacy.load(\"en_core_web_sm\")\n",
        "doc = nlp(text)\n",
        "data_websites = [token.text for token in doc if token.like_url ]\n",
        "data_websites"
      ],
      "metadata": {
        "colab": {
          "base_uri": "https://localhost:8080/"
        },
        "id": "jEvfRcj2zfU2",
        "outputId": "9b1892f4-cea4-4e71-e078-45fe9b914fe9"
      },
      "execution_count": 4,
      "outputs": [
        {
          "output_type": "execute_result",
          "data": {
            "text/plain": [
              "['http://www.data.gov/',\n",
              " 'http://www.science',\n",
              " 'http://data.gov.uk/.',\n",
              " 'http://www3.norc.org/gss+website/',\n",
              " 'http://www.europeansocialsurvey.org/.']"
            ]
          },
          "metadata": {},
          "execution_count": 4
        }
      ]
    },
    {
      "cell_type": "code",
      "source": [
        "transactions = \"Tony gave two $ to Peter, Bruce gave 500 € to Steve\"\n",
        "doc = nlp(transactions)\n",
        "for token in doc:\n",
        "    if token.like_num and doc[token.i+1].is_currency:\n",
        "        print(token.text, doc[token.i+1].text)"
      ],
      "metadata": {
        "colab": {
          "base_uri": "https://localhost:8080/"
        },
        "id": "JUXcMXddzjqu",
        "outputId": "ca791585-f863-4ab1-eaa0-4ed193e051a5"
      },
      "execution_count": 7,
      "outputs": [
        {
          "output_type": "stream",
          "name": "stdout",
          "text": [
            "two $\n",
            "500 €\n"
          ]
        }
      ]
    },
    {
      "cell_type": "markdown",
      "source": [
        "Great! Your code is short and efficient. Let me explain it **step by step** with your example:\n",
        "\n",
        "---\n",
        "\n",
        "### ✅ Your Code:\n",
        "\n",
        "```python\n",
        "transactions = \"Tony gave two $ to Peter, Bruce gave 500 € to Steve\"\n",
        "doc = nlp(transactions)\n",
        "\n",
        "for token in doc:\n",
        "    if token.like_num and doc[token.i+1].is_currency:\n",
        "        print(token.text, doc[token.i+1].text)\n",
        "```\n",
        "\n",
        "---\n",
        "\n",
        "### ✅ Step-by-step Explanation:\n",
        "\n",
        "#### 1. **Input Text**:\n",
        "\n",
        "```python\n",
        "transactions = \"Tony gave two $ to Peter, Bruce gave 500 € to Steve\"\n",
        "```\n",
        "\n",
        "This is the sentence you're analyzing.\n",
        "\n",
        "#### 2. **Processing with spaCy**:\n",
        "\n",
        "```python\n",
        "doc = nlp(transactions)\n",
        "```\n",
        "\n",
        "You're creating a `Doc` object. spaCy breaks the sentence into tokens and analyzes each one (POS, shape, entity, etc.).\n",
        "\n",
        "#### 3. **Looping through tokens**:\n",
        "\n",
        "```python\n",
        "for token in doc:\n",
        "```\n",
        "\n",
        "This goes through each word or symbol in the sentence — like `\"Tony\"`, `\"gave\"`, `\"two\"`, `\"$\"` etc.\n",
        "\n",
        "#### 4. **Condition: `token.like_num`**:\n",
        "\n",
        "```python\n",
        "if token.like_num\n",
        "```\n",
        "\n",
        "This checks if the token **represents a number**, like `\"two\"` or `\"500\"`. `like_num` returns `True` for digits and number words.\n",
        "\n",
        "#### 5. **Check Next Token: `doc[token.i+1].is_currency`**:\n",
        "\n",
        "```python\n",
        "doc[token.i+1].is_currency\n",
        "```\n",
        "\n",
        "This checks if the **next token** is a currency symbol, like `\"$\"` or `\"€\"`.\n",
        "Note: `token.i` is the index of the current token.\n",
        "\n",
        "#### 6. **Print Amount and Currency**:\n",
        "\n",
        "```python\n",
        "print(token.text, doc[token.i+1].text)\n",
        "```\n",
        "\n",
        "If both conditions are true, it prints the amount and the currency.\n",
        "\n",
        "---\n",
        "\n",
        "### ✅ Output:\n",
        "\n",
        "```\n",
        "two $\n",
        "500 €\n",
        "```\n",
        "\n",
        "---\n",
        "\n",
        "### ⚠️ Caution:\n",
        "\n",
        "* If the **currency comes before** the number (e.g., `$500`), your code will **not detect it**.\n",
        "* You may want to add a check for that case too if needed.\n",
        "\n"
      ],
      "metadata": {
        "id": "kJzYJ1qU4qjX"
      }
    },
    {
      "cell_type": "markdown",
      "source": [
        "To handle **both cases**:\n",
        "\n",
        "1. Number **before** currency (✅ your current logic): `\"500 €\"`\n",
        "2. Currency **before** number (⚠️ missing): `\"$ 500\"`\n",
        "\n",
        "We can modify your code slightly to check both **`num + currency`** and **`currency + num`** patterns:\n",
        "\n",
        "---\n",
        "\n",
        "### ✅ Updated Code:\n",
        "\n",
        "```python\n",
        "import spacy\n",
        "\n",
        "nlp = spacy.load(\"en_core_web_sm\")\n",
        "transactions = \"Tony gave two $ to Peter, Bruce gave $ 500 to Steve and also gave 700 € to John\"\n",
        "\n",
        "doc = nlp(transactions)\n",
        "\n",
        "for i in range(len(doc) - 1):\n",
        "    # Case 1: number followed by currency (e.g., \"500 €\")\n",
        "    if doc[i].like_num and doc[i+1].is_currency:\n",
        "        print(doc[i].text, doc[i+1].text)\n",
        "\n",
        "    # Case 2: currency followed by number (e.g., \"$ 500\")\n",
        "    if doc[i].is_currency and doc[i+1].like_num:\n",
        "        print(doc[i+1].text, doc[i].text)\n",
        "```\n",
        "\n",
        "---\n",
        "\n",
        "### 💡 Example Input:\n",
        "\n",
        "```python\n",
        "\"Tony gave two $ to Peter, Bruce gave $ 500 to Steve and also gave 700 € to John\"\n",
        "```\n",
        "\n",
        "### ✅ Output:\n",
        "\n",
        "```\n",
        "two $\n",
        "500 $\n",
        "700 €\n",
        "```\n",
        "\n",
        "---\n",
        "\n",
        "Let me know if you'd like to also **normalize number words** (like `\"two\"` → `2`) using `text2num`.\n"
      ],
      "metadata": {
        "id": "Y_MMCKr_45G2"
      }
    },
    {
      "cell_type": "code",
      "source": [
        "import spacy\n",
        "\n",
        "nlp = spacy.load(\"en_core_web_sm\")\n",
        "transactions = \"Tony gave two $ to Peter, Bruce gave $ 500 to Steve and also gave 700 € to John\"\n",
        "\n",
        "doc = nlp(transactions)\n",
        "\n",
        "for i in range(len(doc) - 1):\n",
        "    # Case 1: number followed by currency (e.g., \"500 €\")\n",
        "    if doc[i].like_num and doc[i+1].is_currency:\n",
        "        print(doc[i].text, doc[i+1].text)\n",
        "\n",
        "    # Case 2: currency followed by number (e.g., \"$ 500\")\n",
        "    if doc[i].is_currency and doc[i+1].like_num:\n",
        "        print(doc[i+1].text, doc[i].text)\n"
      ],
      "metadata": {
        "colab": {
          "base_uri": "https://localhost:8080/"
        },
        "id": "7y3Kzrzz5wfm",
        "outputId": "df49cb58-dbe8-43e1-af20-7e30379ef78e"
      },
      "execution_count": 8,
      "outputs": [
        {
          "output_type": "stream",
          "name": "stdout",
          "text": [
            "two $\n",
            "500 $\n",
            "700 €\n"
          ]
        }
      ]
    },
    {
      "cell_type": "code",
      "source": [],
      "metadata": {
        "id": "fsA1X_e85ym5"
      },
      "execution_count": null,
      "outputs": []
    }
  ]
}