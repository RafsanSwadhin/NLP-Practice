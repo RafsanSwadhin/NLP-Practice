{
 "cells": [
  {
   "cell_type": "code",
   "execution_count": 1,
   "id": "a50c15d0-0008-4281-ad5a-f870f5171bfe",
   "metadata": {},
   "outputs": [
    {
     "name": "stdout",
     "output_type": "stream",
     "text": [
      "I really love nature language processing\n"
     ]
    }
   ],
   "source": [
    "from textblob import TextBlob\n",
    "\n",
    "def correct_spelling(text):\n",
    "    blob = TextBlob(text)\n",
    "    return str(blob.correct())\n",
    "\n",
    "# Example\n",
    "text = \"I relly lovee natrul langage proccessing\"\n",
    "corrected = correct_spelling(text)\n",
    "print(corrected)\n"
   ]
  },
  {
   "cell_type": "code",
   "execution_count": 2,
   "id": "49798681-3294-4315-82fd-5edc9666d6b1",
   "metadata": {},
   "outputs": [
    {
     "name": "stdout",
     "output_type": "stream",
     "text": [
      "Spelling correction is very useful\n"
     ]
    }
   ],
   "source": [
    "from autocorrect import Speller\n",
    "\n",
    "spell = Speller(lang='en')\n",
    "\n",
    "def correct_with_autocorrect(text):\n",
    "    return spell(text)\n",
    "\n",
    "# Example\n",
    "text = \"Speling corection is verry usful\"\n",
    "print(correct_with_autocorrect(text))\n"
   ]
  },
  {
   "cell_type": "code",
   "execution_count": null,
   "id": "d86a3e56-fcbb-4db1-9451-7468bc563f90",
   "metadata": {},
   "outputs": [],
   "source": []
  }
 ],
 "metadata": {
  "kernelspec": {
   "display_name": "Python 3 (ipykernel)",
   "language": "python",
   "name": "python3"
  },
  "language_info": {
   "codemirror_mode": {
    "name": "ipython",
    "version": 3
   },
   "file_extension": ".py",
   "mimetype": "text/x-python",
   "name": "python",
   "nbconvert_exporter": "python",
   "pygments_lexer": "ipython3",
   "version": "3.11.2"
  }
 },
 "nbformat": 4,
 "nbformat_minor": 5
}
