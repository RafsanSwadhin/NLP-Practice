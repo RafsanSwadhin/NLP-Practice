{
 "cells": [
  {
   "cell_type": "code",
   "execution_count": 12,
   "id": "3316376b-5e63-4424-9f95-4594fe58361b",
   "metadata": {},
   "outputs": [],
   "source": [
    "import re\n",
    "def remove_html_tag(text):\n",
    "    pattern = re.compile(\"https?://\\S+|www\\.\\S+\")\n",
    "    return pattern.sub(r'', text)"
   ]
  },
  {
   "cell_type": "code",
   "execution_count": 13,
   "id": "36059897-d9da-4cf0-973c-693fd672b0c7",
   "metadata": {},
   "outputs": [],
   "source": [
    "text = \"Visit our website at https://example.com or follow us at http://twitter.com/example\"\n"
   ]
  },
  {
   "cell_type": "code",
   "execution_count": 14,
   "id": "34ded486-a88f-46d4-a655-9679195e5745",
   "metadata": {},
   "outputs": [
    {
     "data": {
      "text/plain": [
       "'Visit our website at  or follow us at '"
      ]
     },
     "execution_count": 14,
     "metadata": {},
     "output_type": "execute_result"
    }
   ],
   "source": [
    "remove_html_tag(text)"
   ]
  },
  {
   "cell_type": "code",
   "execution_count": 10,
   "id": "e54a2c7f-28ee-48e1-8af9-0303f95d4af2",
   "metadata": {},
   "outputs": [],
   "source": [
    "import re\n",
    "def remove_urls(text):\n",
    "    pattern = re.compile(r'https?://\\S+|www\\.\\S+')\n",
    "    return pattern.sub('', text)"
   ]
  },
  {
   "cell_type": "code",
   "execution_count": 11,
   "id": "abed35eb-0b7b-49d6-9d59-8d54faf92e39",
   "metadata": {},
   "outputs": [],
   "source": []
  },
  {
   "cell_type": "raw",
   "id": "a834110c-a900-400d-8c93-436efbd125fc",
   "metadata": {},
   "source": [
    "remove_urls(text)"
   ]
  },
  {
   "cell_type": "code",
   "execution_count": null,
   "id": "b6a029c2-accc-44cc-84d3-452fb459f95d",
   "metadata": {},
   "outputs": [],
   "source": []
  }
 ],
 "metadata": {
  "kernelspec": {
   "display_name": "Python 3 (ipykernel)",
   "language": "python",
   "name": "python3"
  },
  "language_info": {
   "codemirror_mode": {
    "name": "ipython",
    "version": 3
   },
   "file_extension": ".py",
   "mimetype": "text/x-python",
   "name": "python",
   "nbconvert_exporter": "python",
   "pygments_lexer": "ipython3",
   "version": "3.11.2"
  }
 },
 "nbformat": 4,
 "nbformat_minor": 5
}
